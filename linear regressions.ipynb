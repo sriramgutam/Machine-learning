{
 "cells": [
  {
   "cell_type": "code",
   "execution_count": 1,
   "id": "5dbddb25",
   "metadata": {},
   "outputs": [
    {
     "data": {
      "text/plain": [
       "array(['a', 'b', 'c'], dtype='<U1')"
      ]
     },
     "execution_count": 1,
     "metadata": {},
     "output_type": "execute_result"
    }
   ],
   "source": [
    "import numpy as np\n",
    "char_arr=np.array(['a','b','c'])\n",
    "char_arr"
   ]
  },
  {
   "cell_type": "code",
   "execution_count": 5,
   "id": "cc63a8ab",
   "metadata": {},
   "outputs": [
    {
     "data": {
      "text/plain": [
       "array(['supervised', 'unsupervised', 'semi-supervised', 'reinforcement'],\n",
       "      dtype='<U15')"
      ]
     },
     "execution_count": 5,
     "metadata": {},
     "output_type": "execute_result"
    }
   ],
   "source": [
    "ch_arr2=np.array([\"Supervised\",\"unSupervised\",\"sEMI-supervised\",\"reinforcement\"])\n",
    "low_arr=np.char.lower(ch_arr2)\n",
    "low_arr"
   ]
  },
  {
   "cell_type": "code",
   "execution_count": 6,
   "id": "f12df72b",
   "metadata": {},
   "outputs": [
    {
     "data": {
      "text/plain": [
       "array(['supervised', 'unsupervised', 'semi supervised', 'reinforcement'],\n",
       "      dtype='<U15')"
      ]
     },
     "execution_count": 6,
     "metadata": {},
     "output_type": "execute_result"
    }
   ],
   "source": [
    "cleaned_arr=np.char.replace(low_arr,\"-\",\" \")\n",
    "cleaned_arr"
   ]
  },
  {
   "cell_type": "code",
   "execution_count": 11,
   "id": "c3908e46",
   "metadata": {},
   "outputs": [
    {
     "data": {
      "text/plain": [
       "array([1, 2, 3, 4, 5])"
      ]
     },
     "execution_count": 11,
     "metadata": {},
     "output_type": "execute_result"
    }
   ],
   "source": [
    "array1=np.array([1,2,3,4,5])\n",
    "array1"
   ]
  },
  {
   "cell_type": "code",
   "execution_count": 12,
   "id": "83144e79",
   "metadata": {},
   "outputs": [
    {
     "data": {
      "text/plain": [
       "dtype('int32')"
      ]
     },
     "execution_count": 12,
     "metadata": {},
     "output_type": "execute_result"
    }
   ],
   "source": [
    "array1.dtype"
   ]
  },
  {
   "cell_type": "code",
   "execution_count": 13,
   "id": "320e1add",
   "metadata": {},
   "outputs": [
    {
     "data": {
      "text/plain": [
       "dtype('<U1')"
      ]
     },
     "execution_count": 13,
     "metadata": {},
     "output_type": "execute_result"
    }
   ],
   "source": [
    "char_arr.dtype"
   ]
  },
  {
   "cell_type": "code",
   "execution_count": 14,
   "id": "86e70296",
   "metadata": {},
   "outputs": [
    {
     "data": {
      "text/plain": [
       "dtype('<U15')"
      ]
     },
     "execution_count": 14,
     "metadata": {},
     "output_type": "execute_result"
    }
   ],
   "source": [
    "low_arr.dtype\n"
   ]
  },
  {
   "cell_type": "code",
   "execution_count": 16,
   "id": "70a61f08",
   "metadata": {},
   "outputs": [],
   "source": [
    "array8=np.array([1,2,3,4,5],dtype='f')"
   ]
  },
  {
   "cell_type": "code",
   "execution_count": 17,
   "id": "4c3af04d",
   "metadata": {},
   "outputs": [
    {
     "data": {
      "text/plain": [
       "array([1., 2., 3., 4., 5.], dtype=float32)"
      ]
     },
     "execution_count": 17,
     "metadata": {},
     "output_type": "execute_result"
    }
   ],
   "source": [
    "array8"
   ]
  },
  {
   "cell_type": "code",
   "execution_count": null,
   "id": "2352cbbf",
   "metadata": {},
   "outputs": [],
   "source": [
    "array8=np.array([1,2,3,4,5],dtype='float64')"
   ]
  },
  {
   "cell_type": "code",
   "execution_count": 19,
   "id": "4b5a3aff",
   "metadata": {},
   "outputs": [
    {
     "data": {
      "text/plain": [
       "dtype('float32')"
      ]
     },
     "execution_count": 19,
     "metadata": {},
     "output_type": "execute_result"
    }
   ],
   "source": [
    "array8.dtype"
   ]
  },
  {
   "cell_type": "code",
   "execution_count": 20,
   "id": "baad86f2",
   "metadata": {},
   "outputs": [
    {
     "data": {
      "text/plain": [
       "array([1., 2., 3., 4., 5.], dtype=float32)"
      ]
     },
     "execution_count": 20,
     "metadata": {},
     "output_type": "execute_result"
    }
   ],
   "source": [
    "array2conv=array8.astype('f')\n",
    "array2conv"
   ]
  },
  {
   "cell_type": "code",
   "execution_count": 21,
   "id": "0ecf078e",
   "metadata": {},
   "outputs": [
    {
     "data": {
      "text/plain": [
       "array([1, 2, 3, 4, 5], dtype=int32)"
      ]
     },
     "execution_count": 21,
     "metadata": {},
     "output_type": "execute_result"
    }
   ],
   "source": [
    "array7conv=array8.astype('i')\n",
    "array7conv"
   ]
  },
  {
   "cell_type": "code",
   "execution_count": 22,
   "id": "96804606",
   "metadata": {},
   "outputs": [
    {
     "data": {
      "text/plain": [
       "array([b'1', b'2', b'3', b'4', b'5'], dtype='|S1')"
      ]
     },
     "execution_count": 22,
     "metadata": {},
     "output_type": "execute_result"
    }
   ],
   "source": [
    "array7conv=array8.astype('c')\n",
    "array7conv"
   ]
  },
  {
   "cell_type": "code",
   "execution_count": 26,
   "id": "22608c0d",
   "metadata": {},
   "outputs": [
    {
     "data": {
      "text/plain": [
       "array([b'1.0', b'2.0', b'3.0', b'4.0', b'5.0'], dtype='|S32')"
      ]
     },
     "execution_count": 26,
     "metadata": {},
     "output_type": "execute_result"
    }
   ],
   "source": [
    "array2conv=array8.astype('S')\n",
    "array2conv"
   ]
  },
  {
   "cell_type": "code",
   "execution_count": 27,
   "id": "61e3a111",
   "metadata": {},
   "outputs": [
    {
     "data": {
      "text/plain": [
       "array(['a', 'b', 'c'], dtype='<U1')"
      ]
     },
     "execution_count": 27,
     "metadata": {},
     "output_type": "execute_result"
    }
   ],
   "source": [
    "char_arr"
   ]
  },
  {
   "cell_type": "code",
   "execution_count": 28,
   "id": "c52640fa",
   "metadata": {},
   "outputs": [
    {
     "ename": "NameError",
     "evalue": "name 'char' is not defined",
     "output_type": "error",
     "traceback": [
      "\u001b[1;31m---------------------------------------------------------------------------\u001b[0m",
      "\u001b[1;31mNameError\u001b[0m                                 Traceback (most recent call last)",
      "Cell \u001b[1;32mIn[28], line 1\u001b[0m\n\u001b[1;32m----> 1\u001b[0m char_conv\u001b[38;5;241m=\u001b[39mchar\u001b[38;5;241m-\u001b[39marr\u001b[38;5;241m.\u001b[39mastype(\u001b[38;5;124m'\u001b[39m\u001b[38;5;124mi\u001b[39m\u001b[38;5;124m'\u001b[39m)\n\u001b[0;32m      2\u001b[0m char_conv\n",
      "\u001b[1;31mNameError\u001b[0m: name 'char' is not defined"
     ]
    }
   ],
   "source": [
    "char_conv=char-arr.astype('i')\n",
    "char_conv"
   ]
  },
  {
   "cell_type": "code",
   "execution_count": 33,
   "id": "2bdfabf3",
   "metadata": {},
   "outputs": [
    {
     "data": {
      "text/plain": [
       "array([1., 1.])"
      ]
     },
     "execution_count": 33,
     "metadata": {},
     "output_type": "execute_result"
    }
   ],
   "source": [
    "ars1=np.ones(2)\n",
    "ars1"
   ]
  },
  {
   "cell_type": "code",
   "execution_count": 34,
   "id": "24502ea8",
   "metadata": {},
   "outputs": [
    {
     "data": {
      "text/plain": [
       "array([0., 0., 0., 0.])"
      ]
     },
     "execution_count": 34,
     "metadata": {},
     "output_type": "execute_result"
    }
   ],
   "source": [
    "ars1=np.zeros(4)\n",
    "ars1"
   ]
  },
  {
   "cell_type": "code",
   "execution_count": 36,
   "id": "1ee42cbe",
   "metadata": {},
   "outputs": [
    {
     "data": {
      "text/plain": [
       "array([0.72024955, 0.70512187])"
      ]
     },
     "execution_count": 36,
     "metadata": {},
     "output_type": "execute_result"
    }
   ],
   "source": [
    "ars1=np.random.random(2)\n",
    "ars1"
   ]
  },
  {
   "cell_type": "markdown",
   "id": "992a3b70",
   "metadata": {},
   "source": [
    "numone=np.ones((2,2),dtype=int)"
   ]
  },
  {
   "cell_type": "code",
   "execution_count": 37,
   "id": "525d1c8f",
   "metadata": {},
   "outputs": [
    {
     "data": {
      "text/plain": [
       "array([[1, 1],\n",
       "       [1, 1]])"
      ]
     },
     "execution_count": 37,
     "metadata": {},
     "output_type": "execute_result"
    }
   ],
   "source": [
    "numone=np.ones((2,2),dtype=int)\n",
    "numone"
   ]
  },
  {
   "cell_type": "code",
   "execution_count": 40,
   "id": "ef0ee79d",
   "metadata": {},
   "outputs": [
    {
     "data": {
      "text/plain": [
       "array([[1, 1],\n",
       "       [1, 1],\n",
       "       [1, 1]])"
      ]
     },
     "execution_count": 40,
     "metadata": {},
     "output_type": "execute_result"
    }
   ],
   "source": [
    "numone=np.ones((3,2),dtype=int)\n",
    "numone"
   ]
  },
  {
   "cell_type": "markdown",
   "id": "660afa4d",
   "metadata": {},
   "source": []
  },
  {
   "cell_type": "code",
   "execution_count": 39,
   "id": "6ae8b409",
   "metadata": {},
   "outputs": [
    {
     "data": {
      "text/plain": [
       "array([[1., 1.],\n",
       "       [1., 1.],\n",
       "       [1., 1.]])"
      ]
     },
     "execution_count": 39,
     "metadata": {},
     "output_type": "execute_result"
    }
   ],
   "source": [
    "numsone=np.ones((3,2))\n",
    "numsone"
   ]
  },
  {
   "cell_type": "code",
   "execution_count": 41,
   "id": "e25cf33b",
   "metadata": {},
   "outputs": [
    {
     "data": {
      "text/plain": [
       "array([[0., 0.],\n",
       "       [0., 0.],\n",
       "       [0., 0.]])"
      ]
     },
     "execution_count": 41,
     "metadata": {},
     "output_type": "execute_result"
    }
   ],
   "source": [
    "numsone=np.zeros((3,2))\n",
    "numsone"
   ]
  },
  {
   "cell_type": "code",
   "execution_count": 42,
   "id": "4988a0e9",
   "metadata": {},
   "outputs": [],
   "source": [
    "dimones=np.ones((4,3,2))"
   ]
  },
  {
   "cell_type": "code",
   "execution_count": 44,
   "id": "7f5eef68",
   "metadata": {},
   "outputs": [
    {
     "data": {
      "text/plain": [
       "3"
      ]
     },
     "execution_count": 44,
     "metadata": {},
     "output_type": "execute_result"
    }
   ],
   "source": [
    "dimones.ndim"
   ]
  },
  {
   "cell_type": "code",
   "execution_count": 46,
   "id": "f73d7c77",
   "metadata": {},
   "outputs": [
    {
     "name": "stdout",
     "output_type": "stream",
     "text": [
      "addition:\n",
      " [[ 6  8 10]\n",
      " [12 14 16]]\n"
     ]
    }
   ],
   "source": [
    "ar1=np.array([[1,2,3],[4,5,6]])\n",
    "ar2=np.array([[5,6,7],[8,9,10]])\n",
    "#addition\n",
    "addition=ar1+ar2\n",
    "print(\"addition:\\n\",addition)"
   ]
  },
  {
   "cell_type": "code",
   "execution_count": 47,
   "id": "081815ec",
   "metadata": {},
   "outputs": [
    {
     "name": "stdout",
     "output_type": "stream",
     "text": [
      "addition:\n",
      " [[-4 -4 -4]\n",
      " [-4 -4 -4]]\n"
     ]
    }
   ],
   "source": [
    "ar1=np.array([[1,2,3],[4,5,6]])\n",
    "ar2=np.array([[5,6,7],[8,9,10]])\n",
    "#Substraction\n",
    "addition=ar1-ar2\n",
    "print(\"addition:\\n\",addition)"
   ]
  },
  {
   "cell_type": "code",
   "execution_count": 48,
   "id": "da85a4c7",
   "metadata": {},
   "outputs": [
    {
     "name": "stdout",
     "output_type": "stream",
     "text": [
      "addition:\n",
      " [[ 5 12 21]\n",
      " [32 45 60]]\n"
     ]
    }
   ],
   "source": [
    "ar1=np.array([[1,2,3],[4,5,6]])\n",
    "ar2=np.array([[5,6,7],[8,9,10]])\n",
    "#Multiplication\n",
    "addition=ar1*ar2\n",
    "print(\"addition:\\n\",addition)"
   ]
  },
  {
   "cell_type": "code",
   "execution_count": 49,
   "id": "6e009a4e",
   "metadata": {},
   "outputs": [
    {
     "name": "stdout",
     "output_type": "stream",
     "text": [
      "addition:\n",
      " [[0.2        0.33333333 0.42857143]\n",
      " [0.5        0.55555556 0.6       ]]\n"
     ]
    }
   ],
   "source": [
    "ar1=np.array([[1,2,3],[4,5,6]])\n",
    "ar2=np.array([[5,6,7],[8,9,10]])\n",
    "#Division\n",
    "addition=ar1/ar2\n",
    "print(\"addition:\\n\",addition)"
   ]
  },
  {
   "cell_type": "code",
   "execution_count": 51,
   "id": "2b205a41",
   "metadata": {},
   "outputs": [
    {
     "name": "stdout",
     "output_type": "stream",
     "text": [
      "addition:\n",
      " [[ 6  8 10]\n",
      " [12 14 16]]\n",
      "Substraction:\n",
      " [[-4 -4 -4]\n",
      " [-4 -4 -4]]\n",
      "Multiplication:\n",
      " [[ 5 12 21]\n",
      " [32 45 60]]\n",
      "Divison:\n",
      " [[0.2        0.33333333 0.42857143]\n",
      " [0.5        0.55555556 0.6       ]]\n"
     ]
    }
   ],
   "source": [
    "ar1=np.array([[1,2,3],[4,5,6]])\n",
    "ar2=np.array([[5,6,7],[8,9,10]])\n",
    "#addition\n",
    "addition=ar1+ar2\n",
    "substraction=ar1-ar2\n",
    "multiplication=ar1*ar2\n",
    "division=ar1/ar2\n",
    "print(\"addition:\\n\",addition)\n",
    "print(\"Substraction:\\n\",substraction)\n",
    "print(\"Multiplication:\\n\",multiplication)\n",
    "print(\"Divison:\\n\",division)"
   ]
  },
  {
   "cell_type": "code",
   "execution_count": 52,
   "id": "c4d5b678",
   "metadata": {},
   "outputs": [
    {
     "name": "stdout",
     "output_type": "stream",
     "text": [
      "power:\n",
      " [[       1       64     2187]\n",
      " [   65536  1953125 60466176]]\n"
     ]
    }
   ],
   "source": [
    "power=np.power(ar1,ar2)\n",
    "print(\"power:\\n\",power)"
   ]
  },
  {
   "cell_type": "code",
   "execution_count": 53,
   "id": "1f121b75",
   "metadata": {},
   "outputs": [
    {
     "data": {
      "text/plain": [
       "array([[11, 22, 25],\n",
       "       [14, 25, 28]])"
      ]
     },
     "execution_count": 53,
     "metadata": {},
     "output_type": "execute_result"
    }
   ],
   "source": [
    "array2d=np.array([[1,2,3],[4,5,6]])\n",
    "array1d=np.array([10,20,22])\n",
    "#add 1d array to 2d array\n",
    "result=array2d+array1d\n",
    "result"
   ]
  },
  {
   "cell_type": "markdown",
   "id": "ff5ac5b1",
   "metadata": {},
   "source": []
  },
  {
   "cell_type": "code",
   "execution_count": 55,
   "id": "04008050",
   "metadata": {},
   "outputs": [
    {
     "data": {
      "text/plain": [
       "array([0, 3, 6, 9])"
      ]
     },
     "execution_count": 55,
     "metadata": {},
     "output_type": "execute_result"
    }
   ],
   "source": [
    "range_array=np.arange(0,10,3)\n",
    "range_array"
   ]
  },
  {
   "cell_type": "code",
   "execution_count": null,
   "id": "17ccd8f4",
   "metadata": {},
   "outputs": [],
   "source": []
  },
  {
   "cell_type": "code",
   "execution_count": null,
   "id": "ee4b6dc7",
   "metadata": {},
   "outputs": [],
   "source": [
    "size:int or tuple of ints,optional:The shape of the array yoy want to create"
   ]
  },
  {
   "cell_type": "code",
   "execution_count": 61,
   "id": "adb19d38",
   "metadata": {},
   "outputs": [
    {
     "ename": "SyntaxError",
     "evalue": "positional argument follows keyword argument (752498422.py, line 1)",
     "output_type": "error",
     "traceback": [
      "\u001b[1;36m  Cell \u001b[1;32mIn[61], line 1\u001b[1;36m\u001b[0m\n\u001b[1;33m    b=np.random.randint(low=1,high=6,size(2,3))\u001b[0m\n\u001b[1;37m                                              ^\u001b[0m\n\u001b[1;31mSyntaxError\u001b[0m\u001b[1;31m:\u001b[0m positional argument follows keyword argument\n"
     ]
    }
   ],
   "source": [
    "b=np.random.randint(low=1,high=6,size(2,3))\n"
   ]
  },
  {
   "cell_type": "code",
   "execution_count": 59,
   "id": "0528f9b8",
   "metadata": {},
   "outputs": [
    {
     "ename": "NameError",
     "evalue": "name 'b' is not defined",
     "output_type": "error",
     "traceback": [
      "\u001b[1;31m---------------------------------------------------------------------------\u001b[0m",
      "\u001b[1;31mNameError\u001b[0m                                 Traceback (most recent call last)",
      "Cell \u001b[1;32mIn[59], line 1\u001b[0m\n\u001b[1;32m----> 1\u001b[0m b\n",
      "\u001b[1;31mNameError\u001b[0m: name 'b' is not defined"
     ]
    }
   ],
   "source": [
    "b"
   ]
  },
  {
   "cell_type": "code",
   "execution_count": 63,
   "id": "e5d04773",
   "metadata": {},
   "outputs": [
    {
     "data": {
      "text/plain": [
       "array([[ 1,  2,  3],\n",
       "       [ 4,  5,  6],\n",
       "       [ 5,  6,  7],\n",
       "       [ 8,  9, 10]])"
      ]
     },
     "execution_count": 63,
     "metadata": {},
     "output_type": "execute_result"
    }
   ],
   "source": [
    "np.concatenate([ar1,ar2])"
   ]
  },
  {
   "cell_type": "code",
   "execution_count": 71,
   "id": "45aba563",
   "metadata": {},
   "outputs": [
    {
     "data": {
      "text/plain": [
       "array([1, 2, 3, 4, 5, 6])"
      ]
     },
     "execution_count": 71,
     "metadata": {},
     "output_type": "execute_result"
    }
   ],
   "source": [
    "flatarr=ar1.flatten()\n",
    "flatarr"
   ]
  },
  {
   "cell_type": "code",
   "execution_count": 72,
   "id": "3fc0c7d1",
   "metadata": {},
   "outputs": [
    {
     "data": {
      "text/plain": [
       "array([[1., 0.],\n",
       "       [0., 1.]])"
      ]
     },
     "execution_count": 72,
     "metadata": {},
     "output_type": "execute_result"
    }
   ],
   "source": [
    "np.eye(2)"
   ]
  },
  {
   "cell_type": "code",
   "execution_count": 73,
   "id": "b10f5198",
   "metadata": {},
   "outputs": [
    {
     "name": "stdout",
     "output_type": "stream",
     "text": [
      "Number of array dimensions.\n",
      "\n",
      "Examples\n",
      "--------\n",
      ">>> x = np.array([1, 2, 3])\n",
      ">>> x.ndim\n",
      "1\n",
      ">>> y = np.zeros((2, 3, 4))\n",
      ">>> y.ndim\n",
      "3\n"
     ]
    }
   ],
   "source": [
    "np.info(np.ndarray.ndim)"
   ]
  },
  {
   "cell_type": "code",
   "execution_count": 74,
   "id": "754dacf6",
   "metadata": {},
   "outputs": [],
   "source": [
    "import matplotlib.pyplot as plt\n",
    "from scipy import stats"
   ]
  },
  {
   "cell_type": "code",
   "execution_count": null,
   "id": "6c2b5cc6",
   "metadata": {},
   "outputs": [],
   "source": []
  },
  {
   "cell_type": "code",
   "execution_count": null,
   "id": "64de2b17",
   "metadata": {},
   "outputs": [],
   "source": []
  },
  {
   "cell_type": "code",
   "execution_count": null,
   "id": "8c73917b",
   "metadata": {},
   "outputs": [],
   "source": []
  },
  {
   "cell_type": "code",
   "execution_count": null,
   "id": "b9674cbb",
   "metadata": {},
   "outputs": [],
   "source": []
  },
  {
   "cell_type": "code",
   "execution_count": null,
   "id": "9c373ac2",
   "metadata": {},
   "outputs": [],
   "source": []
  },
  {
   "cell_type": "code",
   "execution_count": null,
   "id": "4e6cbab0",
   "metadata": {},
   "outputs": [],
   "source": []
  },
  {
   "cell_type": "code",
   "execution_count": null,
   "id": "ee87a7d3",
   "metadata": {},
   "outputs": [],
   "source": []
  },
  {
   "cell_type": "code",
   "execution_count": null,
   "id": "fa5ccb59",
   "metadata": {},
   "outputs": [],
   "source": []
  },
  {
   "cell_type": "code",
   "execution_count": null,
   "id": "133c695b",
   "metadata": {},
   "outputs": [],
   "source": []
  }
 ],
 "metadata": {
  "kernelspec": {
   "display_name": "Python 3 (ipykernel)",
   "language": "python",
   "name": "python3"
  },
  "language_info": {
   "codemirror_mode": {
    "name": "ipython",
    "version": 3
   },
   "file_extension": ".py",
   "mimetype": "text/x-python",
   "name": "python",
   "nbconvert_exporter": "python",
   "pygments_lexer": "ipython3",
   "version": "3.11.5"
  }
 },
 "nbformat": 4,
 "nbformat_minor": 5
}
